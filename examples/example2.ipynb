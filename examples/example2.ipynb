{
  "nbformat": 4,
  "nbformat_minor": 0,
  "metadata": {
    "colab": {
      "name": "Untitled1.ipynb",
      "provenance": [],
      "authorship_tag": "ABX9TyOMoe4HEf6EoC/i14FrvNkh",
      "include_colab_link": true
    },
    "kernelspec": {
      "name": "python3",
      "display_name": "Python 3"
    }
  },
  "cells": [
    {
      "cell_type": "markdown",
      "metadata": {
        "id": "view-in-github",
        "colab_type": "text"
      },
      "source": [
        "<a href=\"https://colab.research.google.com/github/lordmahyar/keras-visualizer/blob/master/examples/example2.ipynb\" target=\"_parent\"><img src=\"https://colab.research.google.com/assets/colab-badge.svg\" alt=\"Open In Colab\"/></a>"
      ]
    },
    {
      "cell_type": "markdown",
      "metadata": {
        "id": "agIhzotiEkja",
        "colab_type": "text"
      },
      "source": [
        "# **Keras Visualizer Example 2**"
      ]
    },
    {
      "cell_type": "markdown",
      "metadata": {
        "id": "y_FCcVi6CdFx",
        "colab_type": "text"
      },
      "source": [
        "\n",
        "## install libraries"
      ]
    },
    {
      "cell_type": "code",
      "metadata": {
        "id": "0J7bKvbY8_kp",
        "colab_type": "code",
        "colab": {}
      },
      "source": [
        "!pip install keras\n",
        "!apt-get -qq install -y graphviz && pip install graphviz\n",
        "!pip install keras-visualizer"
      ],
      "execution_count": null,
      "outputs": []
    },
    {
      "cell_type": "markdown",
      "metadata": {
        "id": "dr2GfkOkCsgL",
        "colab_type": "text"
      },
      "source": [
        "## Visualize Keras Model"
      ]
    },
    {
      "cell_type": "code",
      "metadata": {
        "id": "n3Ijf2H8At3f",
        "colab_type": "code",
        "colab": {}
      },
      "source": [
        "from keras import models\n",
        "from keras.layers import Dense, Conv2D, MaxPooling2D, Flatten, Activation\n",
        "from keras_visualizer import visualizer"
      ],
      "execution_count": 2,
      "outputs": []
    },
    {
      "cell_type": "code",
      "metadata": {
        "id": "TORBnOqRBerR",
        "colab_type": "code",
        "colab": {}
      },
      "source": [
        "model = models.Sequential()\n",
        "model.add(Conv2D(64, (3, 3), input_shape=(28, 28, 3), activation='relu'))\n",
        "model.add(MaxPooling2D((2, 2)))\n",
        "model.add(Flatten())\n",
        "model.add(Dense(3))\n",
        "model.add(Activation('sigmoid'))\n",
        "model.add(Dense(1))\n",
        "\n",
        "visualizer(model, format='png', view=True)"
      ],
      "execution_count": 3,
      "outputs": []
    },
    {
      "cell_type": "markdown",
      "metadata": {
        "id": "jZkXwLOcDHcA",
        "colab_type": "text"
      },
      "source": [
        "## View Image in Notebook"
      ]
    },
    {
      "cell_type": "code",
      "metadata": {
        "id": "uPbJ28YyC-fs",
        "colab_type": "code",
        "colab": {}
      },
      "source": [
        "from IPython.display import Image\n",
        "Image(\"graph.png\")"
      ],
      "execution_count": null,
      "outputs": []
    }
  ]
}